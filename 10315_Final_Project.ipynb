{
  "nbformat": 4,
  "nbformat_minor": 0,
  "metadata": {
    "colab": {
      "provenance": [],
      "include_colab_link": true
    },
    "kernelspec": {
      "name": "python3",
      "display_name": "Python 3"
    },
    "language_info": {
      "name": "python"
    }
  },
  "cells": [
    {
      "cell_type": "markdown",
      "metadata": {
        "id": "view-in-github",
        "colab_type": "text"
      },
      "source": [
        "<a href=\"https://colab.research.google.com/github/SKam23/10315-Final-Project/blob/main/10315_Final_Project.ipynb\" target=\"_parent\"><img src=\"https://colab.research.google.com/assets/colab-badge.svg\" alt=\"Open In Colab\"/></a>"
      ]
    },
    {
      "cell_type": "code",
      "source": [
        "import importlib\n",
        "import torch \n",
        "import torchvision.transforms as transforms\n",
        "import pandas as pd\n",
        "from torch.utils.data import Dataset, DataLoader\n",
        "from torchvision.transforms import ToTensor\n",
        "from PIL import Image\n",
        "\n",
        "if importlib.util.find_spec(\"kaggle\") is None:\n",
        "    !pip install -q kaggle"
      ],
      "metadata": {
        "id": "AMSw8uqccMx6"
      },
      "execution_count": null,
      "outputs": []
    },
    {
      "cell_type": "code",
      "source": [
        "!mkdir ~/.kaggle\n",
        "!cp kaggle.json ~/.kaggle/\n",
        "! chmod 600 ~/.kaggle/kaggle.json"
      ],
      "metadata": {
        "id": "h-Q7g6qhSY1W"
      },
      "execution_count": null,
      "outputs": []
    },
    {
      "cell_type": "code",
      "source": [
        "!kaggle datasets download -d jessicali9530/celeba-dataset"
      ],
      "metadata": {
        "colab": {
          "base_uri": "https://localhost:8080/"
        },
        "id": "728mu908eO6e",
        "outputId": "3717817e-e352-466f-c16c-5992cbcbb6f3"
      },
      "execution_count": null,
      "outputs": [
        {
          "output_type": "stream",
          "name": "stdout",
          "text": [
            "Downloading celeba-dataset.zip to /content\n",
            "100% 1.33G/1.33G [00:09<00:00, 217MB/s]\n",
            "100% 1.33G/1.33G [00:09<00:00, 156MB/s]\n"
          ]
        }
      ]
    },
    {
      "cell_type": "code",
      "source": [
        "!unzip -n celeba-dataset.zip"
      ],
      "metadata": {
        "colab": {
          "base_uri": "https://localhost:8080/"
        },
        "id": "LH6tbreveVNB",
        "outputId": "6b1a9c81-f8cb-4609-f7ff-d652c498feb3"
      },
      "execution_count": null,
      "outputs": [
        {
          "output_type": "stream",
          "name": "stdout",
          "text": [
            "Archive:  celeba-dataset.zip\n"
          ]
        }
      ]
    },
    {
      "cell_type": "code",
      "execution_count": null,
      "metadata": {
        "id": "mJuMc3SKQslw"
      },
      "outputs": [],
      "source": [
        "# list_eval_partition.csv: Recommended partitioning of images into training, validation, testing sets. Images 1-162770 are training, 162771-182637 are validation, 182638-202599 are testing\n",
        "# list_bbox_celeba.csv: Bounding box information for each image. \"x_1\" and \"y_1\" represent the upper left point coordinate of bounding box. \"width\" and \"height\" represent the width and height of bounding box\n",
        "# list_landmarks_align_celeba.csv: Image landmarks and their respective coordinates. There are 5 landmarks: left eye, right eye, nose, left mouth, right mouth\n",
        "# list_attr_celeba.csv: Attribute labels for each image. There are 40 attributes. \"1\" represents positive while \"-1\" represents negative\n",
        "partition_df = pd.read_csv('list_eval_partition.csv')\n",
        "bbox_df = pd.read_csv('list_bbox_celeba.csv')\n",
        "landmarks_df = pd.read_csv('list_landmarks_align_celeba.csv')\n",
        "attr_df = pd.read_csv('list_attr_celeba.csv')\n"
      ]
    },
    {
      "cell_type": "code",
      "source": [
        "merged_df = partition_df.merge(bbox_df, on='image_id').merge(landmarks_df, on='image_id').merge(attr_df, on='image_id')\n",
        "train_df = merged_df[merged_df['partition'] == 0]\n",
        "val_df = merged_df[merged_df['partition'] == 1]\n",
        "test_df = merged_df[merged_df['partition'] == 2]\n"
      ],
      "metadata": {
        "id": "STkmFt7MhOZJ"
      },
      "execution_count": null,
      "outputs": []
    },
    {
      "cell_type": "code",
      "source": [
        "class CelebADataset(Dataset):\n",
        "    def __init__(self, df):\n",
        "        self.df = df\n",
        "        self.transform = ToTensor()\n",
        "        \n",
        "    def __len__(self):\n",
        "        return len(self.df)\n",
        "    \n",
        "    def __getitem__(self, idx):\n",
        "        row = self.df.iloc[idx]\n",
        "        image = Image.open(f\"celeba/img_align_celeba/{row['image_id']}\")\n",
        "        image = self.transform(image)\n",
        "        age = row['age']\n",
        "        if age < 20:\n",
        "            label = 0\n",
        "        elif age < 30:\n",
        "            label = 1\n",
        "        elif age < 40:\n",
        "            label = 2\n",
        "        elif age < 50:\n",
        "            label = 3\n",
        "        elif age < 60:\n",
        "            label = 4\n",
        "        else:\n",
        "            label = 5\n",
        "        return image, label\n",
        "\n"
      ],
      "metadata": {
        "id": "L_ZXowtvidtc"
      },
      "execution_count": null,
      "outputs": []
    },
    {
      "cell_type": "code",
      "source": [
        "train_dataset = CelebADataset(train_df)\n",
        "train_dataloader = DataLoader(train_dataset, batch_size=64, shuffle=True)\n",
        "\n",
        "val_dataset = CelebADataset(val_df)\n",
        "val_dataloader = DataLoader(val_dataset, batch_size=64)\n",
        "\n",
        "test_dataset = CelebADataset(test_df)\n",
        "test_dataloader = DataLoader(test_dataset, batch_size=64)"
      ],
      "metadata": {
        "id": "JaE7zPc-ooN9"
      },
      "execution_count": null,
      "outputs": []
    }
  ]
}